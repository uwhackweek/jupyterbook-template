{
 "cells": [
  {
   "cell_type": "markdown",
   "metadata": {},
   "source": [
    "# Forming Queries\n",
    "\n",
    "Get Familiar with querying the database. BUT don't forget your [cheat sheets](https://snowexsql.readthedocs.io/en/latest/cheat_sheet.html)! \n",
    "\n",
    "## Process\n",
    "### Getting Connected\n",
    "Getting connected to the database is easiest done using the snowexsql library function [`get_db`](https://snowexsql.readthedocs.io/en/latest/snowexsql.html#snowexsql.db.get_db)\n"
   ]
  },
  {
   "cell_type": "code",
   "execution_count": null,
   "metadata": {},
   "outputs": [],
   "source": [
    "# Import the function to get connect to the db\n",
    "from snowexsql.db import get_db\n",
    "\n",
    "# This is what you will use for all of hackweek to access the db\n",
    "db_name = 'snow:hackweek@db.snowexdata.org/snowex'\n",
    "\n",
    "# Using the function get_db, we receive 2 ways to interact with the database\n",
    "engine, session = get_db(db_name)"
   ]
  },
  {
   "cell_type": "markdown",
   "metadata": {},
   "source": [
    "### Importing the tables classes\n",
    "These are critical for build queries. You will need at least one of these every query since they reflect the data were interested in.\n"
   ]
  },
  {
   "cell_type": "code",
   "execution_count": null,
   "metadata": {},
   "outputs": [],
   "source": [
    "from snowexsql.data import SiteData, PointData, LayerData, ImageData"
   ]
  },
  {
   "cell_type": "markdown",
   "metadata": {},
   "source": [
    "### Query Time!\n",
    "We build queries in python using `session.query()`. Whatever we put inside of the query parentheses is what we will get back in the results!"
   ]
  },
  {
   "cell_type": "code",
   "execution_count": null,
   "metadata": {},
   "outputs": [],
   "source": [
    "# Lets grab a single row from the points table\n",
    "qry = session.query(PointData).limit(1)\n",
    "\n",
    "# Execute that query!\n",
    "result = qry.all()"
   ]
  },
  {
   "cell_type": "markdown",
   "metadata": {},
   "source": [
    "Pause for moment and consider what is in `result`....\n",
    "\n",
    "\n",
    "Is it:\n",
    "\n",
    "    A. a single value\n",
    "    B. a bunch of values\n",
    "    C. an object\n",
    "    D. a row of values\n",
    " "
   ]
  },
  {
   "cell_type": "code",
   "execution_count": null,
   "metadata": {},
   "outputs": [],
   "source": [
    "# uncomment the line below and print out the results \n",
    "#print(result)"
   ]
  },
  {
   "cell_type": "markdown",
   "metadata": {},
   "source": [
    "This feels soooo *limited* :)"
   ]
  },
  {
   "cell_type": "markdown",
   "metadata": {
    "tags": [
     "nbsphinx-gallery",
     "nbsphinx-thumbnail"
    ]
   },
   "source": [
    "**Questions**\n",
    "* What happens if we changed the number in the limit? What will we get back?\n",
    "* Where are our column names?\n",
    "* What if I only wanted a single column and not a whole row?\n"
   ]
  },
  {
   "cell_type": "markdown",
   "metadata": {},
   "source": [
    "## Filtering\n",
    "The database had a silly number of records, and asking for all of them will crash your computer. \n",
    "\n",
    "So let talk about using `.filter()`\n",
    "\n",
    "All queries can be reduced by applying `session.query(__).filter(__)` and a lot can go into the parentheses. This is where your cheat sheet will come in handy."
   ]
  },
  {
   "cell_type": "code",
   "execution_count": null,
   "metadata": {},
   "outputs": [],
   "source": [
    "# Its convenient to store a query like the following \n",
    "qry = session.query(LayerData)\n",
    "\n",
    "# Then filter on it to just density profiles\n",
    "qry = qry.filter(LayerData.type == 'density')\n",
    "\n",
    "# protect ourselves from a lot of data\n",
    "qry = qry.limit(5)\n",
    "\n",
    "result = qry.all()\n",
    "print(result)"
   ]
  },
  {
   "cell_type": "markdown",
   "metadata": {},
   "source": [
    "**Questions**\n",
    "* What happens if I filter on a qry that's been filtered?\n",
    "* What happens if I just want a single column/attribute back? How do I do that?\n",
    "\n",
    "### How do I know what to filter on?\n",
    "Queries and `.distinct()`!"
   ]
  },
  {
   "cell_type": "code",
   "execution_count": null,
   "metadata": {},
   "outputs": [],
   "source": [
    "# Get the unique datanames in the table\n",
    "results = session.query(LayerData.type).distinct().all()\n",
    "print('Available types = {}'.format(', '.join([r[0] for r in results])))\n",
    "\n",
    "# Get the unique instrument in the table\n",
    "results = session.query(LayerData.instrument).distinct().all()\n",
    "print('\\nAvailable Instruments = {}'.format(', '.join([str(r[0]) for r in results])))\n",
    "\n",
    "# Get the unique dates in the table\n",
    "results = session.query(LayerData.date).distinct().all()\n",
    "print('\\nAvailable Dates = {}'.format(', '.join([str(r[0]) for r in results])))\n",
    "\n",
    "# Get the unique surveyors in the table\n",
    "results = session.query(LayerData.surveyors).distinct().all()\n",
    "print('\\nAvailable surveyors = {}'.format(', '.join([str(r[0]) for r in results])))\n"
   ]
  },
  {
   "cell_type": "markdown",
   "metadata": {},
   "source": [
    "## Recap \n",
    "You just explored using the session object to form queries and compounding filters results with it\n",
    "\n",
    "**You should know:**\n",
    "* How to build queries using filtering\n",
    "* How to isolate column data \n",
    "* Determine what values to filter on\n",
    "\n",
    "If you don't feel comfortable with these, you are probably not alone, let's discuss it!"
   ]
  },
  {
   "cell_type": "code",
   "execution_count": null,
   "metadata": {},
   "outputs": [],
   "source": [
    "# Close out the session to avoid hanging transactions\n",
    "session.close()"
   ]
  }
 ],
 "metadata": {
  "kernelspec": {
   "display_name": "Python 3",
   "language": "python",
   "name": "python3"
  },
  "language_info": {
   "codemirror_mode": {
    "name": "ipython",
    "version": 3
   },
   "file_extension": ".py",
   "mimetype": "text/x-python",
   "name": "python",
   "nbconvert_exporter": "python",
   "pygments_lexer": "ipython3",
   "version": "3.8.8"
  }
 },
 "nbformat": 4,
 "nbformat_minor": 4
}