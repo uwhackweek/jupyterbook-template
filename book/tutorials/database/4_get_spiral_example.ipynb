{
 "cells": [
  {
   "cell_type": "markdown",
   "metadata": {},
   "source": [
    "# Forming Queries: Example Visualizng Depths\n",
    "\n",
    "During the SnowEx campaigns a TON of manual snow depths were collected, surveys for hackweek showed an overhelming interest in the manual \n",
    "snow depths dataset. This tutorial shows how easy it is to get at that data in the database while learning how to build queries\n",
    "\n",
    "Don't forget your [cheat sheets](https://snowexsql.readthedocs.io/en/latest/cheat_sheet.html)! \n",
    "\n",
    "**Goal**: Visualize a small subset of snow depths \n",
    "\n",
    "**Approach**: \n",
    "\n",
    "1. Connect to the DB\n",
    "2. Build a query filtering by dataset and date\n",
    "3. Convert to a GeoDataFrame and plot"
   ]
  },
  {
   "cell_type": "markdown",
   "metadata": {},
   "source": [
    "## Process\n",
    "### Step 1: Get connected"
   ]
  },
  {
   "cell_type": "code",
   "execution_count": null,
   "metadata": {},
   "outputs": [],
   "source": [
    "# Import the function to get connect to the db\n",
    "from snowexsql.db import get_db\n",
    "\n",
    "# Import our class for the points table\n",
    "from snowexsql.data import PointData\n",
    "\n",
    "# Import a useful function to format that data into a dataframe\n",
    "from snowexsql.conversions import query_to_geopandas\n",
    "\n",
    "# Import some tools to build dates \n",
    "from datetime import date\n",
    "\n",
    "# This is what you will use for all of hackweek to access the db\n",
    "db_name = 'snow:hackweek@db.snowexdata.org/snowex'\n",
    "\n",
    "# Using the function get_db, we receive 2 ways to interact with the database\n",
    "engine, session = get_db(db_name)"
   ]
  },
  {
   "cell_type": "markdown",
   "metadata": {},
   "source": [
    "### Step 2: Build a query "
   ]
  },
  {
   "cell_type": "code",
   "execution_count": null,
   "metadata": {},
   "outputs": [],
   "source": [
    "# Pick a dataset\n",
    "dataset = 'depth'\n",
    "\n",
    "# Pick a date\n",
    "collection_date = date(2020, 2, 7)\n",
    "\n",
    "# The part inside the query function is what we want back, in this case all columns for the point data\n",
    "qry = session.query(PointData)\n",
    "\n",
    "# We then want to filter by the selected the data type depth.\n",
    "qry = qry.filter(PointData.type == 'depth')\n",
    "\n",
    "# Filter by a date\n",
    "qry = qry.filter(PointData.date == collection_date)\n",
    "\n",
    "# Limit it to a couple thousand \n",
    "qry = qry.limit(2000)\n",
    "\n",
    "# Execute the query and convert to geopandas in one handy function\n",
    "df = query_to_geopandas(qry, engine)\n",
    "\n",
    "# how many did we retrieve?\n",
    "print(f'{len(df.index)} records returned!')"
   ]
  },
  {
   "cell_type": "markdown",
   "metadata": {},
   "source": [
    "### Step 3: Plot it!"
   ]
  },
  {
   "cell_type": "code",
   "execution_count": null,
   "metadata": {
    "tags": [
     "nbsphinx-gallery",
     "nbsphinx-thumbnail"
    ]
   },
   "outputs": [],
   "source": [
    "# Get the Matplotlib Axes object from the dataframe object, color the points by snow depth value\n",
    "ax = df.plot(column='value', legend=True, cmap='PuBu')\n",
    "\n",
    "# Use non-scientific notation for x and y ticks\n",
    "ax.ticklabel_format(style='plain', useOffset=False)\n",
    "\n",
    "# Set the various plots x/y labels and title.\n",
    "ax.set_title(f'{len(df.index)} {dataset.title()}s collected on {collection_date.strftime(\"%Y-%m-%d\")}')\n",
    "ax.set_xlabel('Easting [m]')\n",
    "ax.set_ylabel('Northing [m]')\n",
    "\n",
    "# Close the session to avoid hanging transactions\n",
    "session.close()"
   ]
  },
  {
   "cell_type": "markdown",
   "metadata": {},
   "source": [
    "Lets try to filter to get the data to show only a depth spiral."
   ]
  },
  {
   "cell_type": "code",
   "execution_count": null,
   "metadata": {},
   "outputs": [],
   "source": [
    "# Let see what instruments are available \n",
    "result = session.query(PointData.instrument).filter(PointData.type == 'depth').distinct().all()\n",
    "print(result)"
   ]
  },
  {
   "cell_type": "markdown",
   "metadata": {
    "tags": [
     "nbsphinx-gallery",
     "nbsphinx-thumbnail"
    ]
   },
   "source": [
    "**Try This**:\n",
    "\n",
    "1. Change the date\n",
    "2. \n",
    "    \n",
    "**Hint**: You may need to form two queries just to see what dates and surveyors are in the db"
   ]
  },
  {
   "cell_type": "markdown",
   "metadata": {},
   "source": [
    "**Try This:**\n",
    "Go back and add a filter to reduce to just one spiral. Do you know what instrument was used to make depth spirals?\n",
    "\n",
    "\n",
    "## Recap \n",
    "You just plotted snow depths and reduce the scope of the data by compounding filters on it\n",
    "\n",
    "**You should know:**\n",
    "* How to build queries using filtering\n",
    "* Where a useful tools like [`query_to_geopandas`](https://snowexsql.readthedocs.io/en/latest/snowexsql.html#snowexsql.conversions.query_to_geopandas) live in the snowexsql library\n",
    "\n",
    "\n",
    "If you don't feel comfortable with these, you are probably not alone, let's discuss it!\n"
   ]
  },
  {
   "cell_type": "code",
   "execution_count": null,
   "metadata": {},
   "outputs": [],
   "source": [
    "# Close out the session to avoid hanging transactions\n",
    "session.close()"
   ]
  }
 ],
 "metadata": {
  "kernelspec": {
   "display_name": "Python 3",
   "language": "python",
   "name": "python3"
  },
  "language_info": {
   "codemirror_mode": {
    "name": "ipython",
    "version": 3
   },
   "file_extension": ".py",
   "mimetype": "text/x-python",
   "name": "python",
   "nbconvert_exporter": "python",
   "pygments_lexer": "ipython3",
   "version": "3.8.8"
  }
 },
 "nbformat": 4,
 "nbformat_minor": 4
}
