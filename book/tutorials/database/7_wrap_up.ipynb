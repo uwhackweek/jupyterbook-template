{
 "cells": [
  {
   "cell_type": "markdown",
   "id": "approximate-selling",
   "metadata": {},
   "source": [
    "# Wrap up\n",
    "\n",
    "## QGIS \n",
    "\n",
    "You can use the database with QGIS or ArcGIS. There are some [examples in QGIS](https://snowexsql.readthedocs.io/en/latest/qgis.html) in the documentation on that on Read the docs for the snowexsql\n",
    "\n",
    "\n",
    "## Community Software\n",
    "\n",
    "* Open Source software means you can participate. Checkout [contributing on RTD](https://snowexsql.readthedocs.io/en/latest/contributing.html)\n",
    "* Can I work locally? Yep! Checkout the [python installation on RTD](https://snowexsql.readthedocs.io/en/latest/installation.html#python) If you are just doing python development you do not need to install the database.\n"
   ]
  },
  {
   "cell_type": "markdown",
   "id": "compact-mills",
   "metadata": {},
   "source": [
    "\n",
    "## Acknowlegdments\n",
    "\n",
    "Big thanks to all the dedicated scientists who went out and collected this invaluable dataset. \n",
    "\n",
    "A huge thanks to HP Marshall who gave me the opportunity to build this a year ago. Buy him a beer or better yet volunteer for field work to hang out with him! \n",
    "\n",
    "Thank you Anthony Ardent, Scott Henderson and Don Setiawan for helping me deploy this for hackweek!"
   ]
  },
  {
   "cell_type": "code",
   "execution_count": null,
   "id": "opposed-signal",
   "metadata": {},
   "outputs": [],
   "source": []
  }
 ],
 "metadata": {
  "kernelspec": {
   "display_name": "Python 3",
   "language": "python",
   "name": "python3"
  },
  "language_info": {
   "codemirror_mode": {
    "name": "ipython",
    "version": 3
   },
   "file_extension": ".py",
   "mimetype": "text/x-python",
   "name": "python",
   "nbconvert_exporter": "python",
   "pygments_lexer": "ipython3",
   "version": "3.8.8"
  }
 },
 "nbformat": 4,
 "nbformat_minor": 5
}