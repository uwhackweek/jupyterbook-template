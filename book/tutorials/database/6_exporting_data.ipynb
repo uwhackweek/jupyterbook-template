{
 "cells": [
  {
   "cell_type": "markdown",
   "id": "female-farming",
   "metadata": {},
   "source": [
    "# Exporting Data \n",
    "You may want to export your queried data from the database. In this section we talk about how!\n"
   ]
  },
  {
   "cell_type": "code",
   "execution_count": null,
   "id": "painted-mountain",
   "metadata": {},
   "outputs": [],
   "source": [
    "# Import the function to get connect to the db\n",
    "from snowexsql.db import get_db\n",
    "from snowexsql.data import SiteData, PointData, LayerData, ImageData\n",
    "\n",
    "# This is what you will use for all of hackweek to access the db\n",
    "db_name = 'snow:hackweek@db.snowexdata.org/snowex'\n",
    "\n",
    "# Using the function get_db, we receive 2 ways to interact with the database\n",
    "engine, session = get_db(db_name)"
   ]
  },
  {
   "cell_type": "markdown",
   "id": "metallic-underground",
   "metadata": {},
   "source": [
    "## Shapefiles and CSVs\n",
    "The following can be done with ANY SiteData, PointData, or LayerData query. \n",
    "\n",
    "**Note**: Shapefiles do not support datetime object so they must be converted to strings before writing."
   ]
  },
  {
   "cell_type": "code",
   "execution_count": null,
   "id": "pleasant-liabilities",
   "metadata": {},
   "outputs": [],
   "source": [
    "# import the hand method for converting queries to dataframes\n",
    "from snowexsql.conversions import query_to_geopandas\n",
    "\n",
    "qry = session.query(SiteData.geom).limit(10)\n",
    "\n",
    "df = query_to_geopandas(qry, engine)\n",
    "\n",
    "# Write to shapefile\n",
    "df.to_file('site_data.shp')\n",
    "\n",
    "# Write to a csv\n",
    "df.to_csv('site_data.csv')"
   ]
  },
  {
   "cell_type": "markdown",
   "id": "contemporary-composer",
   "metadata": {},
   "source": [
    "## Rasters"
   ]
  },
  {
   "cell_type": "code",
   "execution_count": null,
   "id": "thrown-coverage",
   "metadata": {},
   "outputs": [],
   "source": [
    "# import the handy function to convert raster db results to rasterio\n",
    "from snowexsql.conversions import raster_to_rasterio\n",
    "\n",
    "# Import the SQL function to access PostGIS functions\n",
    "from sqlalchemy.sql import func\n",
    "\n",
    "# Import rasterio for Writing\n",
    "import rasterio \n",
    "\n",
    "# Query 1 raster tile and convert it to a geotiff\n",
    "result = session.query(func.ST_AsTiff(ImageData.raster)).limit(1).all()\n",
    "\n",
    "# Convert the dataset to a rasterio dataset\n",
    "dataset = raster_to_rasterio(session, result)\n",
    "\n",
    "# Copy the profile/tiff metadata (not to be confused with the database metadata)\n",
    "profile = dataset[0].profile\n",
    "\n",
    "# Write to a file \n",
    "with rasterio.open('raster.tif', 'w', **profile) as dst:\n",
    "    dst.write(dataset[0].read(1), 1)\n"
   ]
  },
  {
   "cell_type": "code",
   "execution_count": null,
   "id": "beneficial-prairie",
   "metadata": {},
   "outputs": [],
   "source": [
    "# Close out the session to avoid hanging transactions\n",
    "session.close()"
   ]
  }
 ],
 "metadata": {
  "kernelspec": {
   "display_name": "Python 3",
   "language": "python",
   "name": "python3"
  },
  "language_info": {
   "codemirror_mode": {
    "name": "ipython",
    "version": 3
   },
   "file_extension": ".py",
   "mimetype": "text/x-python",
   "name": "python",
   "nbconvert_exporter": "python",
   "pygments_lexer": "ipython3",
   "version": "3.8.8"
  }
 },
 "nbformat": 4,
 "nbformat_minor": 5
}