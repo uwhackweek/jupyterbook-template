{
 "cells": [
  {
   "cell_type": "markdown",
   "id": "dangerous-decrease",
   "metadata": {},
   "source": [
    "# How is the Database Structured?\n",
    "\n",
    "The goal of the database is to hold as much of the SnowEx data in one place and make it easier to \n",
    "do research with. With that in mind follow the steps below to see how the the data base is structured.\n",
    "\n",
    "\n",
    "## What were about to do\n",
    "\n",
    "1. Access the database using the snowexsql python library \n",
    "2. Query the database to see the underlying tables\n",
    "3. Query each table to see what columns are available\n",
    "4. Query to see what datasets are available\n",
    "\n",
    "## Process\n",
    "\n",
    "### Step 1: Get a database session"
   ]
  },
  {
   "cell_type": "code",
   "execution_count": null,
   "id": "artistic-thought",
   "metadata": {},
   "outputs": [],
   "source": [
    "# Import the connection function from the snowexsql library\n",
    "from snowexsql.db import get_db\n",
    "\n",
    "# This is what you will use for all of hackweek to access the db\n",
    "db_name = 'snow:hackweek@db.snowexdata.org/snowex'\n",
    "\n",
    "# Using the function get_db, we receive 2 ways to interact with the database\n",
    "engine, session = get_db(db_name)"
   ]
  },
  {
   "cell_type": "markdown",
   "id": "intensive-tracy",
   "metadata": {},
   "source": [
    "### Step 2: Query the DB to see what tables are available"
   ]
  },
  {
   "cell_type": "code",
   "execution_count": null,
   "id": "random-healthcare",
   "metadata": {},
   "outputs": [],
   "source": [
    "# Output the list of tables in the database \n",
    "engine.table_names()"
   ]
  },
  {
   "cell_type": "markdown",
   "id": "varying-anime",
   "metadata": {},
   "source": [
    "We can also import classes that reflect these tables in python!"
   ]
  },
  {
   "cell_type": "code",
   "execution_count": null,
   "id": "imposed-thomson",
   "metadata": {},
   "outputs": [],
   "source": [
    "from snowexsql.data import LayerData, PointData, ImageData, SiteData"
   ]
  },
  {
   "cell_type": "markdown",
   "id": "liberal-binary",
   "metadata": {},
   "source": [
    "### Step 3: Query a Table to see what columns you can use!\n",
    "\n",
    "In our python library [snowexsql](https://github.com/SnowEx/snowexsql/) there are classes that reflect the database tables. This makes it easier to use in python.\n",
    "For google purposes this is also called Object Relational Mapping (ORM). \n",
    "\n",
    "Import the table class from [`snowexsql.data`](https://snowexsql.readthedocs.io/en/latest/snowexsql.html#module-snowexsql.data) and [`snowexsql.db.get_table_attributes`](https://snowexsql.readthedocs.io/en/latest/snowexsql.html#snowexsql.db.get_table_attributes). The use `get_table_attributes` to see what\n",
    "columns are in each table!"
   ]
  },
  {
   "cell_type": "code",
   "execution_count": null,
   "id": "operational-province",
   "metadata": {},
   "outputs": [],
   "source": [
    "# Import the class reflecting the points table in the db\n",
    "from snowexsql.data import PointData\n",
    "\n",
    "# Import the function to investigate a table\n",
    "from snowexsql.db import get_table_attributes\n",
    "\n",
    "# Use the function to see what columns are available to use. \n",
    "db_columns = get_table_attributes(PointData)\n",
    "\n",
    "# Print out the results nicely\n",
    "print(\"These are the available columns in the table:\\n \\n* {}\\n\".format('\\n* '.join(db_columns)))\n"
   ]
  },
  {
   "cell_type": "markdown",
   "id": "fatal-collection",
   "metadata": {},
   "source": [
    "**Try this:** Using what we just did, use `get_table_attributes` to look at the other tables.\n",
    "\n",
    "**Hint**: You have to change the table class name in two places in the above code block.\n",
    "\n",
    "## Discussion: What's the difference in these tables?\n",
    "\n",
    "If working by yourself checkout https://snowexsql.readthedocs.io/en/latest/database_structure.html to see how data gets categorized. \n"
   ]
  },
  {
   "cell_type": "markdown",
   "id": "immune-symphony",
   "metadata": {},
   "source": [
    "## Bonus Step: Learning to help yourself\n",
    "`snowexsql` has a host of resources for you to  help your self. First when you are looking for something be sure to check the snowexsql's docs.\n",
    "There you will find notes on the database structure. datasets, and of course our API! \n",
    "\n",
    "https://snowexsql.readthedocs.io/en/latest/\n",
    "https://github.com/SnowEx/snowexsql/\n",
    "\n",
    "\n",
    "Some other resources that may be helpful are:\n",
    "\n",
    "* https://geoalchemy-2.readthedocs.io/en/0.8.4/ - geoalchemy is library that allows us to leverage postgis and other gis functions\n",
    "* https://docs.sqlalchemy.org/en/14/            - sqlalchemy is the underlying library that lets us map python to databases\n",
    "* https://postgis.net/docs/manual-3.0/PostGIS_Special_Functions_Index.html - POSTGIS is the extension that make postgres have GIS capabilities. This is here as a resource but it will be discussed in more                                                   detail later.\n",
    "\n",
    "* https://snowexsql.readthedocs.io/en/latest/cheat_sheet.html - This is a cheat sheet we put together to help you use the database.\n"
   ]
  },
  {
   "cell_type": "markdown",
   "id": "aging-volunteer",
   "metadata": {},
   "source": [
    "## Recap \n",
    "You just explored the database structure and discussed how they differ.\n",
    "\n",
    "**You should know:**\n",
    "* Which tables matter to a snowex scientist\n",
    "* What columns you can work with (or how to get the available columns)\n",
    "* Some resources to begin helping yourself.\n",
    "\n",
    "If you don't feel comfortable with these, you are probably not alone, let's discuss it!"
   ]
  },
  {
   "cell_type": "code",
   "execution_count": null,
   "id": "robust-mapping",
   "metadata": {},
   "outputs": [],
   "source": [
    "# Close out the session to avoid hanging transactions\n",
    "session.close()"
   ]
  }
 ],
 "metadata": {
  "kernelspec": {
   "display_name": "Python 3",
   "language": "python",
   "name": "python3"
  },
  "language_info": {
   "codemirror_mode": {
    "name": "ipython",
    "version": 3
   },
   "file_extension": ".py",
   "mimetype": "text/x-python",
   "name": "python",
   "nbconvert_exporter": "python",
   "pygments_lexer": "ipython3",
   "version": "3.8.8"
  }
 },
 "nbformat": 4,
 "nbformat_minor": 5
}
