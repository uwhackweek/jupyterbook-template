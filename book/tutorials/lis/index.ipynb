{
 "cells": [
  {
   "cell_type": "markdown",
   "id": "usual-hammer",
   "metadata": {},
   "source": [
    "# NASA Land Information System (LIS)"
   ]
  },
  {
   "cell_type": "markdown",
   "id": "demographic-bible",
   "metadata": {},
   "source": [
    "```{figure} ./images/nasa-lis-combined-logos2.png\n",
    "---\n",
    "width: 300px\n",
    "---\n",
    "```"
   ]
  },
  {
   "cell_type": "markdown",
   "id": "resident-precipitation",
   "metadata": {},
   "source": [
    "**Contributors:** *Melissa Wrzesien<sup>1,4</sup>, Brendan McAndrew<sup>2,4</sup>, Jian Li<sup>3,5</sup>*\n",
    "\n",
    "*<sup>1</sup> Universities Space Research Association, <sup>2</sup> Science Systems and Applications, Inc., <sup>3</sup> InuTeq, LLC, <sup>4</sup> Hydrological Sciences Branch, NASA Goddard Space Flight Center, <sup>5</sup> Computational and Information Sciences and Technology Office (CISTO), NASA Goddard Space Flight*"
   ]
  },
  {
   "cell_type": "markdown",
   "id": "alternate-failure",
   "metadata": {},
   "source": [
    "```{admonition} Learning Objectives\n",
    "\n",
    "- Learn about NASA's Land Information System\n",
    "- Open, explore, and visualize LIS output\n",
    "- Compare LIS simulation output to raster- and point-based observation datasets\n",
    "\n",
    "Duration:  45 min\n",
    "```"
   ]
  },
  {
   "cell_type": "markdown",
   "id": "auburn-lawsuit",
   "metadata": {},
   "source": [
    "## What is LIS?\n",
    "\n",
    ">The Land Information System (LIS) is a software framework for high performance terrestrial hydrology modeling and data assimilation developed with the goal of integrating satellite and ground-based observational data products and advanced modeling techniques to produce optimal fields of land surface states and fluxes.\n",
    "\n",
    "**TL;DR** LIS = land surface models + data assimilation"
   ]
  },
  {
   "cell_type": "markdown",
   "id": "eastern-restaurant",
   "metadata": {},
   "source": [
    "```{figure} ./images/LIS_schematic.png\n",
    "---\n",
    "width: 800px\n",
    "name: LIS Diagram\n",
    "---\n",
    "Diagram of components of NASA LIS framework. (Image source: https://lis.gsfc.nasa.gov/software/lis/)\n",
    "```"
   ]
  },
  {
   "cell_type": "markdown",
   "id": "trained-hundred",
   "metadata": {},
   "source": [
    "One key feature LIS provides is flexibility to meet user needs. LIS consists of a collection of plug-ins, or modules, that allow users to design simulations with their choice of land surface model, meteorological forcing, data assimilation, hydrological routing, land surface parameters, and more. The plug-in based design also provides extensibility, making it easier to add new functionality to the LIS framework.\n",
    "\n",
    "Current efforts to expand support for snow modeling include implementation of snow modules, such as [SnowModel](https://doi.org/10.1175/JHM548.1) and [Crocus](http://www.umr-cnrm.fr/spip.php?article265&lang=en), into the LIS framework. These models, when run at the scale of ~100 meters, will enable simulation of wind redistribution, snow grain size, and other important processes for more accurate snow modeling.\n",
    "\n",
    "Development of LIS is led by the [Hydrological Sciences Laboratory](https://earth.gsfc.nasa.gov/hydro) at [NASA's Goddard Space Flight Center](https://www.nasa.gov/goddard)."
   ]
  },
  {
   "cell_type": "markdown",
   "id": "canadian-alarm",
   "metadata": {},
   "source": [
    "```{admonition} More information\n",
    ":class: dropdown\n",
    "\n",
    "**Links**\n",
    "\n",
    "* [LIS Website](https://lis.gsfc.nasa.gov/)\n",
    "* [LIS on GitHub](https://github.com/NASA-LIS/LISF)\n",
    "* [LIS Documentation](https://github.com/NASA-LIS/LISF/blob/master/docs/)\n",
    "* [LIS Test Case Walkthrough](https://github.com/bmcandr/lis-public-tc-walkthrough)\n",
    "\n",
    "**References**\n",
    "\n",
    "* Kumar, S.V., C.D. Peters-Lidard, Y. Tian, P.R. Houser, J. Geiger, S. Olden, L. Lighty, J.L. Eastman, B. Doty, P. Dirmeyer, J. Adams, K. Mitchell, E. F. Wood, and J. Sheffield, 2006: Land Information System - An interoperable framework for high resolution land surface modeling. Environ. Modeling & Software, 21, 1402-1415, [doi:10.1016/j.envsoft.2005.07.004](https://doi.org/10.1016/j.envsoft.2005.07.004)\n",
    "\n",
    "* Peters-Lidard, C.D., P.R. Houser, Y. Tian, S.V. Kumar, J. Geiger, S. Olden, L. Lighty, B. Doty, P. Dirmeyer, J. Adams, K. Mitchell, E.F. Wood, and J. Sheffield, 2007: High-performance Earth system modeling with NASA/GSFC's Land Information System. Innovations in Systems and Software Engineering, 3(3), 157-165, [doi:10.1007/s11334-007-0028-x](https://doi.org/10.1007/s11334-007-0028-x)\n",
    "```"
   ]
  },
  {
   "cell_type": "markdown",
   "id": "unauthorized-catalog",
   "metadata": {},
   "source": [
    "## Tutorial Datasets\n",
    "\n",
    "### LIS Output\n",
    "\n",
    "LIS generates gridded output with support for several filetypes: Fortran binary, GRIB1, and NetCDF. In this tutorial we will be using outputs originally generated as NetCDF files that have been converted into a [Zarr](https://zarr.readthedocs.io/en/stable/) store. Why Zarr? We've been exploring cloud-based analysis pipelines and Zarr provides better performance when working with cloud-hosted data. More on this later...\n",
    "\n",
    "The table below describes the configuration options of the simulation used to generate the output we'll be working with:\n",
    "\n",
    "| Domain                  | Simulation Period | Spatial Resolution  | Land Surface Model | Meteorological Forcing | Data Assimilated     | Output Frequency |\n",
    "|-------------------------|-------------------|---------------------|--------------------|------------------------|----------------------|------------------|\n",
    "| Mississippi River Basin | 10/2016-09/2018   | 0.1° x 0.1° (~10km) | NoahMP 4.0.1       | MERRA2                 | SNODAS               | Daily            |\n",
    "\n",
    "\n",
    "Map of the simulation domain:"
   ]
  },
  {
   "cell_type": "code",
   "execution_count": null,
   "id": "infrared-rover",
   "metadata": {
    "tags": [
     "remove-input"
    ]
   },
   "outputs": [],
   "source": [
    "from ipyleaflet import Map, Rectangle, basemaps, basemap_to_tiles\n",
    "\n",
    "basemap = basemap_to_tiles(basemaps.CartoDB.Positron,)\n",
    "\n",
    "m = Map(layers=(basemap,), center=(41.25, -95.93), zoom=4)\n",
    "\n",
    "mrb_rect = Rectangle(bounds=((28.55, -113.95), (49.95, -77.95)))\n",
    "\n",
    "m.add_layer(mrb_rect)\n",
    "\n",
    "m"
   ]
  },
  {
   "cell_type": "markdown",
   "id": "described-patrol",
   "metadata": {},
   "source": [
    "### Comparison Datasets\n",
    "\n",
    "We will compare the gridded LIS output to two types of data: raster and point data. For the raster comparison, we will use the **SNODAS** dataset. For the point comparison, we will use **SNOTEL** station data.\n",
    "\n",
    "#### SNODAS\n",
    "\n",
    "SNODAS (or the Snow Data Assimilation System) is a gridded dataset that combined ground observations with a model to estimate daily snow depth and SWE across the contiguous United States at approximately 1 km spatial resolution. SNODAS is produced by NOAA and is available for download at the [NSIDC.](https://nsidc.org/data/g02158) This data is distributed as a flat binary and [instructions are provided to convert to NetCDF or GeoTIFF](https://nsidc.org/support/how/how-do-i-convert-snodas-binary-files-geotiff-or-netcdf). Similar to the LIS output, we have further converted this to Zarr store for this tutorial.\n",
    "\n",
    "#### SNOTEL\n",
    "\n",
    "The SNOTEL (or Snow Telemetry) network includes over 800 automatic stations across the western US, including Alaska. SNOTEL stations report SWE, snow depth, and other meteorological variables. SNOTEL is run by the USDA and is available for download at the [NRCS website](https://www.wcc.nrcs.usda.gov/snow/). This data is text-based."
   ]
  },
  {
   "cell_type": "code",
   "execution_count": null,
   "id": "tracked-burlington",
   "metadata": {},
   "outputs": [],
   "source": []
  }
 ],
 "metadata": {
  "kernelspec": {
   "display_name": "Python 3",
   "language": "python",
   "name": "python3"
  },
  "language_info": {
   "codemirror_mode": {
    "name": "ipython",
    "version": 3
   },
   "file_extension": ".py",
   "mimetype": "text/x-python",
   "name": "python",
   "nbconvert_exporter": "python",
   "pygments_lexer": "ipython3",
   "version": "3.8.8"
  }
 },
 "nbformat": 4,
 "nbformat_minor": 5
}
