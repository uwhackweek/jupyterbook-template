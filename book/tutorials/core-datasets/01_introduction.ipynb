{
 "cells": [
  {
   "cell_type": "markdown",
   "id": "normal-riding",
   "metadata": {},
   "source": [
    "# SnowEx Mission and Core Data Sets\n",
    "by: **Megan Mason** (ATA Aerospace and Boise State),\n",
    "**Carrie Vuyovich** (NASA Goddard), \n",
    "**HP Marshall** (Boise State)\n",
    "<meganmason491@boisestate.edu>\n",
    "\n",
    "(12 minutes)\n",
    "\n",
    "<img src=\"images/cover.png\">\n",
    "\n",
    "Tutorial objectives: \n",
    "\n",
    "- Provide background for the NASA SnowEx Mission\n",
    "- Distinguish the different components of the core data\n",
    "- Describe the sampling design and naming convention\n",
    "- Provide examples to extract and prep data of interest using 1). NSIDC downloads and 2).snowexsql database"
   ]
  },
  {
   "cell_type": "markdown",
   "id": "structured-interview",
   "metadata": {},
   "source": [
    "## SnowEx Background\n",
    "### What is the Mission of SnowEx?\n",
    "\n",
    "SnowEx is a multi-year program funded by the NASA Terrestrial Hydrology Program to address the most important gaps in snow remote sensing knowledge. It focuses on airborne campaigns and field work, and on comparing the various sensing technologies, from the mature to the more experimental, in globally-representative types of snow. The goal is to address the most important gaps in our snow remote sensing knowledge, and thus lay the groundwork for a future snow satellite mission.\n",
    "\n",
    "<img src=\"images/THProadmap.jpg\" style=\"width: 800px;\"/>"
   ]
  },
  {
   "cell_type": "markdown",
   "id": "naval-webster",
   "metadata": {},
   "source": [
    "### Where has SnowEx been? \n",
    "Campaign efforts are focused on various snow climates in the Western United States. SnowEx partnerships and expertise are spread across the US and international. \n",
    "<img src=\"images/WhereHasSnowExBeen.png\" style=\"width: 1100px;\"/>"
   ]
  },
  {
   "cell_type": "markdown",
   "id": "copyrighted-poland",
   "metadata": {},
   "source": [
    "### What are the core data sets and what makes them different from other data?\n",
    "The core data sets are standardized manual ground observations collected by SnowEx participants. These observations provide a legacy data set for the purposes of calibration and validation efforts for the remote sensing instruments.\n",
    "\n",
    "<img src=\"images/pits_and_depths.png\" style=\"width: 900px;\"/>"
   ]
  },
  {
   "cell_type": "markdown",
   "id": "center-tracy",
   "metadata": {},
   "source": [
    "### What is a **snow pit**?    ⇨ _'Layer data'_ & _'Site data'_ in the snowexsql database \n",
    "A snow pit is a vertical profile of snow from the snow surface to the ground.   \n",
    "This is where we collect a suite of ground observations that aid instrument and model development.\n",
    "\n",
    "### What are **depth transects**? or simply **depths**    ⇨ _'Point data'_ in the snowexsql database\n",
    "These are point meausurements that tell you how deep the snow is at georeferenced locations.   \n",
    "There are several instruments available to capture snow depth, some of which are an avalanche probe, MagnaProbe, or Mesa2.   \n",
    "\n",
    "### What is an **interval board**?    ⇨ data not processed yet for database\n",
    "An interval board is a 2x2\" board with a vertical pole attached at the center.   \n",
    "The board surface is our reference to track the amount of new snow that falls between field visits.   \n",
    "The board remains fixed for the season, and gets cleared each visit. \n"
   ]
  },
  {
   "cell_type": "markdown",
   "id": "juvenile-external",
   "metadata": {},
   "source": [
    "**Table. Summary of Core Data Sets with DOI links for applicable data sets**\n",
    "<table id=\"t01\">\n",
    "<tbody>\n",
    "<tr>\n",
    "<th>Core Data Sets</th>\n",
    "<th>Parameters Available</th>\n",
    "<th>Instruments</th>\n",
    "<th>NSIDC DOI</th>\n",
    "<hr>\n",
    "</tr>\n",
    "<tr>\n",
    "<td>Snow Pits</td>\n",
    "<td>Depth, Density, Temp., LWC, Stratigraphy,<br>Grain Size, Wetness, Hand Hardness,<br>Qualitative Environment, SWE</td>\n",
    "<td>Standard pit kit</td>\n",
    "<td><a href='https://nsidc.org/data/SNEX17_SnowPits/versions/1'>SNEX17_SnowPits_GMIOP</a> \n",
    "<br>\n",
    "<a href='https://nsidc.org/data/SNEX20_GM_SP/versions/1'>SNEX20_SnowPits_GMIOP</a>\n",
    "<br>\n",
    "SNEX20_TS_SP (in prep.)\n",
    "<br>\n",
    "SNEX21_TS_SP (future pub.)<td>\n",
    "</tr>\n",
    "<tr>\n",
    "<td>Depth Transects</td>\n",
    "<td>Snow Depth - various sampling designs</td>\n",
    "<td>MagnaProbe, Mesa2, Pit Ruler</td>\n",
    "<td><a href='https://nsidc.org/data/SNEX17_SD/versions/1'>SNEX17_SD</a> \n",
    "<br>\n",
    "<a href='https://nsidc.org/data/SNEX20_SD/versions/1'>SNEX20_SD</a>\n",
    "<br>\n",
    "SNEX20_TS_SD (future pub.)\n",
    "<br>\n",
    "SNEX21_TS_SD (future pub.)<td>\n",
    "</tr>\n",
    "<tr>\n",
    "<td>Interval Boards</td>\n",
    "<td>New snow, SWE, density</td>\n",
    "<td>Ruler and spring scale</td>\n",
    "<td>SNEX20_TS_IB (future pub.)\n",
    "<br>\n",
    "SNEX21_TS_IB (future pub.)<td></td>\n",
    "</tr>\n",
    "<tr>\n",
    "</tr>\n",
    "<tbody>\n",
    "<table> \n",
    "<hr>\n",
    "\n",
    "_Visit [NSIDC's SnowEx Overview page](https://nsidc.org/data/snowex) to see a full table of all available [2017](https://nsidc.org/data/snowex/data_summaries) and [2020](https://nsidc.org/data/snowex/data_summaries) products._"
   ]
  },
  {
   "cell_type": "markdown",
   "id": "beautiful-content",
   "metadata": {},
   "source": [
    "### What data are associated with a snow pit?\n",
    "Fieldnote photos from one pit visit. We call these **Pit Sheets**.\n",
    "\n",
    "<img src=\"images/SnowEx20_SnowPits_GMIOP_20200212_2C12_book1_v01.jpg\" style=\"width: 800px\" align=\"center\"/>\n",
    "\n",
    "<img src=\"images/stratCodes.png\" style=\"width: 700px\" align=\"center\"/>\n",
    "\n",
    "<img src=\"images/SnowEx20_SnowPits_GMIOP_20200212_2C12_book2_v01.jpg\" style=\"width: 800px\" align=\"center\"/>\n",
    "\n",
    "### What format are the data in?\n",
    "<img src=\"images/data-package.png\" style=\"width: 800px\" align=\"center\"/>\n"
   ]
  },
  {
   "cell_type": "markdown",
   "id": "hourly-quilt",
   "metadata": {},
   "source": [
    "### Sample design and site naming convention\n",
    "<img src=\"images/matrix.png\" style=\"width: 800px\" align=\"right\"/>\n",
    "\n",
    "Nine-member snow and vegetation matrix\n",
    "\n",
    "**Vegetation classes**\n",
    "- 1-3 = treeless (0% tree cover)\n",
    "- 4-6 = sparse (1-30% tree cover)\n",
    "- 7-9 = dense (31-100% tree cover)\n",
    "\n",
    "**Snow Depth classes**\n",
    "- 1, 4, 7 = shallow (<90cm)\n",
    "- 2, 5, 8 = medium (90-122cm)\n",
    "- 3, 6, 9 = deep (>122cm)\n",
    "\n",
    "**Flight Lines**\n",
    "- 'C' = Crossline\n",
    "- 'N' = North\n",
    "- 'S' = South\n",
    "\n",
    "\n",
    "<img src=\"images/GMpitMap.jpg\" style=\"width: 1100px\" align=\"center\"/>"
   ]
  },
  {
   "cell_type": "markdown",
   "id": "educated-jason",
   "metadata": {},
   "source": [
    "### Recap"
   ]
  },
  {
   "cell_type": "markdown",
   "id": "dedicated-newfoundland",
   "metadata": {},
   "source": [
    "- SnowEx is a participant driven and NASA funded project to lay the groundwork for a future snow satellite mission.\n",
    "- Pits, depths, interval board data sets are consistent between SnowEx sites and intended for calibration and validation efforts.\n",
    "- Published data (pits & depths, GMIOP '17 and '20) are available at NSIDC and the User Guides are very helpful! And, integrated into the _snowexsql database_!"
   ]
  },
  {
   "cell_type": "markdown",
   "id": "accepting-moral",
   "metadata": {},
   "source": [
    "_Thank you to the SnowEx leadership team, logistics staff, data management personal, field participants, \n",
    "and you - the **END USERS!**_\n",
    "<img src=\"images/field-mouse.JPG\" style=\"width: 500px\" style=\"float: left\"/>"
   ]
  },
  {
   "cell_type": "code",
   "execution_count": null,
   "id": "common-grill",
   "metadata": {},
   "outputs": [],
   "source": []
  }
 ],
 "metadata": {
  "kernelspec": {
   "display_name": "Python 3",
   "language": "python",
   "name": "python3"
  },
  "language_info": {
   "codemirror_mode": {
    "name": "ipython",
    "version": 3
   },
   "file_extension": ".py",
   "mimetype": "text/x-python",
   "name": "python",
   "nbconvert_exporter": "python",
   "pygments_lexer": "ipython3",
   "version": "3.8.8"
  }
 },
 "nbformat": 4,
 "nbformat_minor": 5
}