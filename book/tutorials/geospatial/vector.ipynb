{
 "cells": [
  {
   "cell_type": "markdown",
   "id": "advisory-sweden",
   "metadata": {},
   "source": [
    "# Vector data\n",
    "\n",
    "Authors: David Shean & Scott Henderson\n",
    "\n",
    "SnowEx Hackweek July 13, 2021\n",
    "\n",
    "```{admonition} Learning Objectives\n",
    "*A 30 minute guide to vector data for SnowEX Hackweek*\n",
    "- find, visualize, interpret vector data formats\n",
    "- use Python raster libraries [geopandas](https://geopandas.readthedocs.io/en/stable/)\n",
    "```"
   ]
  },
  {
   "cell_type": "markdown",
   "id": "underlying-azerbaijan",
   "metadata": {},
   "source": [
    "## GeoPandas\n",
    "\n",
    "pandas is great, but what if we want to do some geospatial operations - like reproject our vector data or compute the intersection between Point and Polygon features?\n",
    "\n",
    "Enter Geopandas - all the great things about pandas, plus geo! (http://geopandas.org/).\n",
    "\n",
    ">\"GeoPandas is an open source project to make working with geospatial data in python easier. GeoPandas extends the datatypes used by pandas to allow spatial operations on geometric types. Geometric operations are performed by shapely. Geopandas further depends on fiona for file access and descartes and matplotlib for plotting.\"\n",
    "\n",
    ">\"GeoPandas enables you to easily do operations in python that would otherwise require a spatial database such as PostGIS.\"\n",
    "\n",
    "Under the hood, GeoPandas is `pandas` plus some other core geospatial packages:\n",
    "* `shapely` for geometry operations (https://shapely.readthedocs.io/en/stable/manual.html)\n",
    "* `fiona` for reading/writing GIS file formats (https://fiona.readthedocs.io/en/latest/manual.html)\n",
    "* `pyproj` for projections and coordinate system transformations (http://pyproj4.github.io/pyproj/stable/)\n",
    "\n",
    "Under those hoods are lower-level geospatial libraries (GEOS, GDAL/OGR, PROJ), written in C/C++/Java and compiled (fast!), that provide a foundation for most GIS software (open-source and commercial).  I encourage you to explore these - I guarantee you will learn something valuable.\n",
    "\n",
    "* `GEOS` https://trac.osgeo.org/geos/\n",
    "* `GDAL/OGR` https://gdal.org/\n",
    "* `PROJ` https://proj.org/\n",
    "\n",
    "For now, let's explore some basic geopandas functionality."
   ]
  },
  {
   "cell_type": "code",
   "execution_count": null,
   "id": "athletic-length",
   "metadata": {},
   "outputs": [],
   "source": [
    "import geopandas as gpd\n",
    "import hvplot.pandas\n",
    "import holoviews as hv"
   ]
  },
  {
   "cell_type": "markdown",
   "id": "tender-transcript",
   "metadata": {},
   "source": [
    "### GeoDataFrame\n",
    "* https://geopandas.org/data_structures.html\n",
    "* Indexing and selection - `iloc`, `loc`"
   ]
  },
  {
   "cell_type": "code",
   "execution_count": null,
   "id": "antique-election",
   "metadata": {},
   "outputs": [],
   "source": [
    "gpd.GeoDataFrame?"
   ]
  },
  {
   "cell_type": "markdown",
   "id": "drawn-assault",
   "metadata": {},
   "source": [
    "### Coordinate Reference Systems (CRS)\n",
    "These are essential for geospatial analysis, but can be confusing (even for seasoned GIS professionals). Fortunately, most applications use common CRS with a shared database of EPSG codes. https://en.wikipedia.org/wiki/EPSG_Geodetic_Parameter_Dataset\n",
    "\n",
    "Here are some common CRS you will encounter:\n",
    "* EPSG:4326 - WGS84, geodetic latitude and longitude\n",
    "* EPSG:3857 - \"web mercator\", used by most tiled basemaps and online/mobile mapping platforms, https://en.wikipedia.org/wiki/Web_Mercator_projection\n",
    "    * Usually OK for display purposes, maybe some analysis at lower latitudes, but considerable distortion at high latitudes\n",
    "* UTM zones - convenient compromise projections for smaller areas (<500 km)\n",
    "    * EPSG:326XX - where XX is zone number (e.g., 12), WGS84 ellipsoid\n",
    "    * EPSG:269XX - where XX is zone number, NAD83(2011) ellipsoid\n",
    "\n",
    "### Key takeaways for now:\n",
    "* Make sure your dataset has a CRS defined (consult metadata if unspecified)\n",
    "* While ArcGIS/QGIS can reproject datasets to a common CRS \"on the fly\" \n",
    "* GeoPandas/Shapely/GEOS performs calculations using 2D Cartesian coordinates (e.g., computing distance with Pythagorean theorem, not true 3D geodetic distance on surface of the Earth). Choice of CRS for these calculations is important (e.g., use equal-area projection for area calculations)\n",
    "* Most of the time, you will use one of the above CRS definitions. For larger regional analysis, consider a custom projection defined by your domain and planned analysis: https://projectionwizard.org/"
   ]
  },
  {
   "cell_type": "markdown",
   "id": "adult-avenue",
   "metadata": {},
   "source": [
    "## Let's use some Polygons for US States\n",
    "\n",
    "Hmmm, let's see.  Two choices:\n",
    "1. We could go to ESRI or the U.S. Census website, identify and download a shapefile, unzip 4+ files, copy/paste the appropriate \\*.shp filename into the notebook.  Wait, how can I download on a remote server?  OK, maybe run something like `wget http://...`, unzip, provide absolute path  \n",
    "*- OR -*\n",
    "2. Give geopandas a url string that points to a GeoJSON file somewhere on the web, and read dynamically\n",
    "\n",
    "Yeah, let's go with #2"
   ]
  },
  {
   "cell_type": "markdown",
   "id": "dutch-racing",
   "metadata": {},
   "source": [
    "Let's use the US States 5M GeoJSON here: http://eric.clst.org/tech/usgeojson/\n",
    "\n",
    "* JSON (JavaScript Object Notation) is a structured text-based data format. A Jupyter notebook is a json text file. \n",
    "* GeoJSON extends this format to include geospatial information. It's pretty great. If you are unfamiliar, take a moment to read about GeoJSON: https://en.wikipedia.org/wiki/GeoJSON\n",
    "\n",
    "Take a look at the 5M file contents in your browser or download and open with a text editor.  Note organization structure.  How does this compare to, say, a Python dictionary object? \n",
    "\n",
    "This is a GeoJSON file!\n",
    "\n",
    "Read the file using GeoPandas by passing the url to `gpd.read_file()`."
   ]
  },
  {
   "cell_type": "code",
   "execution_count": null,
   "id": "raised-sight",
   "metadata": {},
   "outputs": [],
   "source": [
    "states_url = 'http://eric.clst.org/assets/wiki/uploads/Stuff/gz_2010_us_040_00_5m.json'\n",
    "#states_url = 'http://eric.clst.org/assets/wiki/uploads/Stuff/gz_2010_us_040_00_500k.json'\n",
    "states_gdf = gpd.read_file(states_url)"
   ]
  },
  {
   "cell_type": "code",
   "execution_count": null,
   "id": "opposite-reliance",
   "metadata": {},
   "outputs": [],
   "source": [
    "states_gdf.head()"
   ]
  },
  {
   "cell_type": "code",
   "execution_count": null,
   "id": "aerial-formation",
   "metadata": {},
   "outputs": [],
   "source": [
    "states_gdf.plot()"
   ]
  },
  {
   "cell_type": "markdown",
   "id": "trying-sympathy",
   "metadata": {},
   "source": [
    "### Check the CRS\n",
    "* Note that this was defined when we opened the file with GeoPandas - by default, a GeoJSON is assumed to use EPSG:4326 coordinate system for geodetic latitude and longitude"
   ]
  },
  {
   "cell_type": "code",
   "execution_count": null,
   "id": "diagnostic-gathering",
   "metadata": {},
   "outputs": [],
   "source": [
    "states_gdf.crs"
   ]
  },
  {
   "cell_type": "code",
   "execution_count": null,
   "id": "assured-union",
   "metadata": {},
   "outputs": [],
   "source": [
    "states_gdf.hvplot()"
   ]
  },
  {
   "cell_type": "code",
   "execution_count": null,
   "id": "royal-welding",
   "metadata": {},
   "outputs": [],
   "source": [
    "states_gdf.hvplot(geo=True)"
   ]
  },
  {
   "cell_type": "markdown",
   "id": "liable-scenario",
   "metadata": {},
   "source": [
    "## Reprojection and Coordinate Systems\n",
    "\n",
    "All of the above examples used standard geodetic lat/lon coordinate system (EPSG:4326).  This is fine for global analyses and basic visualization.  But remember that the width of a degree of longitude varies with latitude (~111 km near equator, ~0 m near pole), so our plots have scaling and aspect ratio issues.\n",
    "\n",
    "We need to choose a map projection that is appropriate for our data. This decision is important for visualization, but is also critical for precise quantitative analysis. For example, if you want to compute area or volume change, you should use an equal-area projection. If you want to calculate distances between two points, you should use an equidistant projection.\n",
    "\n",
    "https://www.axismaps.com/guide/general/map-projections/\n",
    "\n",
    "Sadly, there is no \"perfect\" projection. You, as the mapmaker or data analyst, are responsible for choosing a projection with the right characteristics for your purposes. \n",
    "\n",
    "Let's explore a bit further, and we'll revisit some general guidelines later."
   ]
  },
  {
   "cell_type": "markdown",
   "id": "representative-festival",
   "metadata": {},
   "source": [
    "### Use GeoPandas to reproject your GeoDataFrame\n",
    "\n",
    "* Use the very convenient `to_crs()` method to reproject: https://geopandas.org/projections.html\n",
    "* Start by reprojecting the points to a Universal Transverse Mercator (UTM), Zone 12N (EPSG:26912)\n",
    "    * https://en.wikipedia.org/wiki/Universal_Transverse_Mercator_coordinate_system#/media/File:Utm-zones-USA.svg\n",
    "* Store the output as a new GeoDataFrame\n",
    "* Do a quick `head()` and note the new values in the `geometry` column"
   ]
  },
  {
   "cell_type": "markdown",
   "id": "controversial-quebec",
   "metadata": {},
   "source": [
    "### Original data (note geometry values)"
   ]
  },
  {
   "cell_type": "code",
   "execution_count": null,
   "id": "tested-commitment",
   "metadata": {},
   "outputs": [],
   "source": [
    "states_gdf.head()"
   ]
  },
  {
   "cell_type": "code",
   "execution_count": null,
   "id": "ecological-violence",
   "metadata": {},
   "outputs": [],
   "source": [
    "states_gdf_utm = states_gdf.to_crs('EPSG:26912')"
   ]
  },
  {
   "cell_type": "code",
   "execution_count": null,
   "id": "voluntary-blogger",
   "metadata": {},
   "outputs": [],
   "source": [
    "states_gdf_utm.head()"
   ]
  },
  {
   "cell_type": "code",
   "execution_count": null,
   "id": "beneficial-consortium",
   "metadata": {},
   "outputs": [],
   "source": [
    "print(states_gdf.crs)\n",
    "print(states_gdf_utm.crs)"
   ]
  },
  {
   "cell_type": "code",
   "execution_count": null,
   "id": "herbal-amendment",
   "metadata": {},
   "outputs": [],
   "source": [
    "states_gdf_utm.crs"
   ]
  },
  {
   "cell_type": "markdown",
   "id": "banner-snapshot",
   "metadata": {},
   "source": [
    "*Note: Our map will have limited distortion (area, distance, angles) within the zone centered on -111°W.  But distortion will increase beyond the width of the -114° to -108°W zone definition.*"
   ]
  },
  {
   "cell_type": "code",
   "execution_count": null,
   "id": "competent-confidence",
   "metadata": {},
   "outputs": [],
   "source": [
    "states_gdf_utm.hvplot(aspect='equal', title='UTM 12N') * hv.VLine(0).opts(color='k', line_width=0.5)"
   ]
  },
  {
   "cell_type": "markdown",
   "id": "authentic-content",
   "metadata": {},
   "source": [
    "Note: the apparent origin (0 on the x axis) seems farther west than expected.\n",
    "\n",
    "🤔 What's going on here? \n",
    "\n",
    "All UTM projections have a \"false easting\" of 500 km (1/2 the zone width) to ensure that map coordinates are always positive (simplifies math). So the actual center longitude of the projection is as defined, but the coordinate values are offset. Confusing, but now you know what a \"false easting\" is."
   ]
  },
  {
   "cell_type": "code",
   "execution_count": null,
   "id": "lucky-grace",
   "metadata": {},
   "outputs": [],
   "source": [
    "states_gdf_utm.hvplot(aspect='equal', title='UTM 12N') * hv.VLine(500000).opts(color='r', line_width=0.5)"
   ]
  },
  {
   "cell_type": "code",
   "execution_count": null,
   "id": "congressional-detail",
   "metadata": {},
   "outputs": [],
   "source": [
    "states_gdf.to_crs('EPSG:26913').hvplot(aspect='equal', title='UTM 13N') * hv.VLine(500000).opts(color='r', line_width=0.5)"
   ]
  },
  {
   "cell_type": "markdown",
   "id": "smaller-toilet",
   "metadata": {},
   "source": [
    "## CRS Summary\n",
    "\n",
    "Excellent, but what did we just do?\n",
    "\n",
    "Under the hood, GeoPandas used the `pyproj` library (a Python API for PROJ) to transform each point from one coordinate system to another coordinate system.  \n",
    "\n",
    "I guarantee that you've all done this kind of thing before, you may just not remember it or recognize it in this context. See: https://en.wikipedia.org/wiki/List_of_common_coordinate_transformations\n",
    "\n",
    "In 2D, transforming (x,y) coordinates between different projections (e.g., WGS84 vs. UTM) on the same reference ellipsoid is pretty straightforward.  Things start to get more complicated when you include different ellipsoid models, horizontal/vertical datums, etc.  Oh, also the Earth's surface is not static - plate tectonics make everything more complicated, as time becomes important, and transformations must include a \"kinematic\" component.  \n",
    "\n",
    "Fortunately, the `PROJ` library (https://proj.org/about.html) has generalized much of the complicated math for geodetic coordinate transformations.  It's been under development since the 1980s, and our understanding of the Earth's shape and plate motions has changed dramatically in that time period.  So, still pretty complicated, and there are different levels of support/sophistication in the tools/libraries that use `PROJ`.\n",
    "\n",
    "We aren't going to get into the details here, but feel free to take a look at the Transformations section here to get a sense of how this is actually accomplished: https://proj.org/operations/index.html"
   ]
  }
 ],
 "metadata": {
  "kernelspec": {
   "display_name": "Python 3",
   "language": "python",
   "name": "python3"
  },
  "language_info": {
   "codemirror_mode": {
    "name": "ipython",
    "version": 3
   },
   "file_extension": ".py",
   "mimetype": "text/x-python",
   "name": "python",
   "nbconvert_exporter": "python",
   "pygments_lexer": "ipython3",
   "version": "3.8.8"
  }
 },
 "nbformat": 4,
 "nbformat_minor": 5
}
