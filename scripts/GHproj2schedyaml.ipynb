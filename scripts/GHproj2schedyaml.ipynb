{
 "cells": [
  {
   "cell_type": "markdown",
   "id": "d913cfe2",
   "metadata": {},
   "source": [
    "# Turn GitHub Schedule Project into Website Schedule.yaml\n",
    "### Starter notebook (still room for more automation, generalization, and improvement)"
   ]
  },
  {
   "cell_type": "code",
   "execution_count": null,
   "id": "f90763a3",
   "metadata": {},
   "outputs": [],
   "source": [
    "# vars to be filled out to run the script\n",
    "org = 'snowex-hackweek' #GitHub organization where the project lives\n",
    "\n",
    "GHuser = ''\n",
    "GHtoken = ''"
   ]
  },
  {
   "cell_type": "code",
   "execution_count": null,
   "id": "e804c90a",
   "metadata": {},
   "outputs": [],
   "source": [
    "import requests\n",
    "from requests.auth import HTTPBasicAuth\n",
    "import yaml"
   ]
  },
  {
   "cell_type": "code",
   "execution_count": null,
   "id": "064dce8c",
   "metadata": {},
   "outputs": [],
   "source": [
    "def get_fr_results(res, array, fields):\n",
    "    \"\"\"\n",
    "    Parse a requests.get response (res) to create a list (array) with info from the given fields (fields, list)\n",
    "    \"\"\"\n",
    "    for res in res.json():\n",
    "        array.append([res[field] for field in fields])"
   ]
  },
  {
   "cell_type": "code",
   "execution_count": null,
   "id": "cca19953",
   "metadata": {},
   "outputs": [],
   "source": [
    "# list all organization projects to get project ID\n",
    "url = f'https://api.github.com/orgs/{org}/projects'\n",
    "orgproj = requests.get(url)\n",
    "projlist = []\n",
    "get_fr_results(orgproj, projlist, ['name','id'])\n",
    "projlist"
   ]
  },
  {
   "cell_type": "code",
   "execution_count": null,
   "id": "d9e8a294",
   "metadata": {},
   "outputs": [],
   "source": [
    "# idenfity which of the projects contains the current schedule\n",
    "proj_id = projlist[0][1]\n",
    "\n",
    "# Create an API request to get the project [columns]\n",
    "url = f'https://api.github.com/projects/{proj_id}/columns'\n",
    "headers = {\"Accept\": \"application/vnd.github.v3+json\"}\n",
    "proj_cols = requests.get(url, headers=headers, auth=HTTPBasicAuth(GHuser, GHtoken))\n",
    "print(\"Status code: \", proj_cols.status_code)"
   ]
  },
  {
   "cell_type": "code",
   "execution_count": null,
   "id": "1ae11f96",
   "metadata": {},
   "outputs": [],
   "source": [
    "# list out all the column names and GitHub IDs for the project\n",
    "proj_cards = []\n",
    "get_fr_results(proj_cols, proj_cards, ['name','id'])\n",
    "proj_cards"
   ]
  },
  {
   "cell_type": "code",
   "execution_count": null,
   "id": "d66df363",
   "metadata": {},
   "outputs": [],
   "source": [
    "# Create an API request to get each column's cards and put into a dict\n",
    "schedule_dict = {}\n",
    "\n",
    "for card in proj_cards:\n",
    "    card_id = card[1]\n",
    "    url = f'https://api.github.com/projects/columns/{card_id}/cards'\n",
    "    headers = {\"Accept\": \"application/vnd.github.v3+json\"}\n",
    "    proj_col = requests.get(url, headers=headers, auth=HTTPBasicAuth(GHuser, GHtoken))\n",
    "    print(\"Status code: \", proj_col.status_code)\n",
    "    \n",
    "    hold_note=[]\n",
    "    get_fr_results(proj_col, hold_note, ['note'])\n",
    "    schedule_dict[card[0]] = hold_note"
   ]
  },
  {
   "cell_type": "code",
   "execution_count": null,
   "id": "0bb91ab9",
   "metadata": {},
   "outputs": [],
   "source": [
    "schedule_dict"
   ]
  },
  {
   "cell_type": "code",
   "execution_count": null,
   "id": "dadb7a85",
   "metadata": {},
   "outputs": [],
   "source": [
    "# turn the json schedule dict into a dict of dicts with formatted strings for turning into yaml\n",
    "fmted_sched_dict = {}\n",
    "# iterate through each day in the dict to parse the strings\n",
    "for day in schedule_dict:\n",
    "    fmted_sched_dict[day] = []\n",
    "    # iterate through each item in that day's list of schedule items\n",
    "    for sched_item_str in schedule_dict[day]:\n",
    "        # parse out the string into a dict of details for each event (ev_dets)\n",
    "        ev_items = sched_item_str[0].split('\\r\\n')\n",
    "        ev_dets = {}\n",
    "        for item in ev_items:\n",
    "            item_parts = item.split('**', 2)\n",
    "            if len(item_parts) == 1:\n",
    "                ev_dets[\"description\"] = item_parts[0]\n",
    "            elif item_parts[2] == '':\n",
    "                ev_dets[\"title\"] = item_parts[1]\n",
    "            elif \"Leads\" in item_parts[1]:\n",
    "                ev_dets[item_parts[1].split(':')[0]] = list(name.strip() for name in item_parts[2].split(','))\n",
    "            elif \"Duration\" in item_parts[1]:\n",
    "                ev_dets['time'] = item_parts[2]\n",
    "            else:\n",
    "                ev_dets[item_parts[1].split(':')[0]] = item_parts[2]\n",
    "        fmted_sched_dict[day].append(ev_dets)"
   ]
  },
  {
   "cell_type": "code",
   "execution_count": null,
   "id": "a1069ead",
   "metadata": {},
   "outputs": [],
   "source": [
    "fmted_sched_dict"
   ]
  },
  {
   "cell_type": "code",
   "execution_count": null,
   "id": "5c15ac1c",
   "metadata": {},
   "outputs": [],
   "source": [
    "class DaySched(yaml.YAMLObject):\n",
    "    def __init__(self, title, date, contents):\n",
    "        self.title = title\n",
    "        self.date = date\n",
    "        self.contents = contents\n",
    "        \n",
    "    def __repr__(self):\n",
    "         return \"%s(title=%r, date=%r, contents=%r)\" % (\n",
    "            self.__class__.__name__, self.title, self.date, self.contents)\n",
    "        \n",
    "class DayItem(yaml.YAMLObject):\n",
    "    def __init__(self, time, location, title, leads, description):\n",
    "        self.time = time\n",
    "        self.location = location\n",
    "        self.title = title\n",
    "        self.leads = leads\n",
    "        self.description=description\n",
    "\n",
    "\n",
    "# sched_yaml = yaml.dump(DaySched('Day 1', 'Mon 11 Jul', DayItem(\"9:30-10:30\", \n",
    "#                                                                \"Conference Room A\", \n",
    "#                                                                \"SnowEx is Awesome\", \n",
    "#                                                                [\"Anthony Arendt\",\"Jessica Scheick\"], \n",
    "#                                                                \"we are making the schedule\")\n",
    "#                                ))\n",
    "\n",
    "# sched_yaml = yaml.dump(DaySched('Day 1', 'Mon 11 Jul', fmted_sched_dict['Day 1']), sort_keys=False)\n",
    "\n"
   ]
  },
  {
   "cell_type": "code",
   "execution_count": null,
   "id": "0cd5c49e",
   "metadata": {},
   "outputs": [],
   "source": [
    "manual_sched_dict = {\"timezone\": \"UTC -7 (Pacific Daylight Time)\",\n",
    "                    \"tabs\": {DaySched('Day 1', 'Mon 11 Jul', fmted_sched_dict['Day 1']),\n",
    "                            DaySched('Day 2', 'Tues 12 Jul', fmted_sched_dict['Day 2']),\n",
    "                            DaySched('Day 3', 'Wed 13 Jul', fmted_sched_dict['Day 3']),\n",
    "                            DaySched('Day 4', 'Thurs 14 Jul', fmted_sched_dict['Day 4']),\n",
    "                            DaySched('Day 5', 'Fri 15 Jul', fmted_sched_dict['Day 5'])}\n",
    "                    }"
   ]
  },
  {
   "cell_type": "code",
   "execution_count": null,
   "id": "bcb59823",
   "metadata": {},
   "outputs": [],
   "source": [
    "sched_yaml = yaml.dump(manual_sched_dict, sort_keys=False)\n",
    "print(sched_yaml)"
   ]
  },
  {
   "cell_type": "code",
   "execution_count": null,
   "id": "f54bb07c",
   "metadata": {},
   "outputs": [],
   "source": []
  },
  {
   "cell_type": "markdown",
   "id": "57eb8182",
   "metadata": {},
   "source": [
    "### Ideas and Goals for future automation:\n",
    "1. convert durations into actual times\n",
    "2. use the times and some simple if statements (if \"start_time\" near noon, add lunch; if \"running_time\" of events so far >90 minutes, add a break) to add other schedule elements\n",
    "3. Create a GitHub project template (perhaps with the website?) to make filling in cards/populating the initial schedule easier.\n",
    "4. Generalize/functionize (or turn into a script) this notebook?\n",
    "5. Save the schedule as the yaml\n",
    "6. GitHub [manual] action that runs this and submits a PR?"
   ]
  },
  {
   "cell_type": "code",
   "execution_count": null,
   "id": "d7165c20",
   "metadata": {},
   "outputs": [],
   "source": []
  }
 ],
 "metadata": {
  "kernelspec": {
   "display_name": "Python 3",
   "language": "python",
   "name": "python3"
  },
  "language_info": {
   "codemirror_mode": {
    "name": "ipython",
    "version": 3
   },
   "file_extension": ".py",
   "mimetype": "text/x-python",
   "name": "python",
   "nbconvert_exporter": "python",
   "pygments_lexer": "ipython3",
   "version": "3.7.6"
  }
 },
 "nbformat": 4,
 "nbformat_minor": 5
}
